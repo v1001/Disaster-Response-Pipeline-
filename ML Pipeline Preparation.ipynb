{
 "cells": [
  {
   "cell_type": "markdown",
   "metadata": {},
   "source": [
    "# ML Pipeline Preparation\n",
    "Follow the instructions below to help you create your ML pipeline.\n",
    "### 1. Import libraries and load data from database.\n",
    "- Import Python libraries\n",
    "- Load dataset from database with [`read_sql_table`](https://pandas.pydata.org/pandas-docs/stable/generated/pandas.read_sql_table.html)\n",
    "- Define feature and target variables X and Y"
   ]
  },
  {
   "cell_type": "code",
   "execution_count": 1,
   "metadata": {},
   "outputs": [
    {
     "name": "stdout",
     "output_type": "stream",
     "text": [
      "[nltk_data] Downloading package punkt to /root/nltk_data...\n",
      "[nltk_data]   Unzipping tokenizers/punkt.zip.\n",
      "[nltk_data] Downloading package wordnet to /root/nltk_data...\n",
      "[nltk_data]   Unzipping corpora/wordnet.zip.\n",
      "[nltk_data] Downloading package averaged_perceptron_tagger to\n",
      "[nltk_data]     /root/nltk_data...\n",
      "[nltk_data]   Unzipping taggers/averaged_perceptron_tagger.zip.\n",
      "[nltk_data] Downloading package stopwords to /root/nltk_data...\n",
      "[nltk_data]   Unzipping corpora/stopwords.zip.\n"
     ]
    }
   ],
   "source": [
    "# import libraries\n",
    "import re\n",
    "import pickle\n",
    "import numpy as np\n",
    "import pandas as pd\n",
    "\n",
    "# import nltk\n",
    "import nltk\n",
    "nltk.download(['punkt', 'wordnet', 'averaged_perceptron_tagger'])\n",
    "nltk.download('stopwords')\n",
    "from nltk.tokenize import word_tokenize, sent_tokenize\n",
    "from nltk.tag import pos_tag\n",
    "from nltk.stem import WordNetLemmatizer\n",
    "from nltk.corpus import stopwords\n",
    "\n",
    "# import classfiers\n",
    "from sklearn.multioutput import MultiOutputClassifier\n",
    "from sklearn.naive_bayes import MultinomialNB\n",
    "from sklearn.svm import LinearSVC\n",
    "from sklearn.neural_network import MLPClassifier\n",
    "from sklearn.ensemble import RandomForestClassifier\n",
    "\n",
    "# import feature extraction, pipeline and model selection tools\n",
    "from sklearn.model_selection import train_test_split, GridSearchCV\n",
    "from sklearn.pipeline import Pipeline, FeatureUnion\n",
    "from sklearn.base import BaseEstimator, TransformerMixin\n",
    "from sklearn.feature_extraction.text import CountVectorizer, TfidfTransformer\n",
    "\n",
    "# import metrics\n",
    "from sklearn.metrics import f1_score, precision_score, recall_score, confusion_matrix, classification_report, roc_auc_score\n",
    "\n",
    "from sqlalchemy import create_engine\n",
    "\n",
    "import matplotlib.pyplot as plt\n",
    "%matplotlib inline\n",
    "\n",
    "import timeit"
   ]
  },
  {
   "cell_type": "code",
   "execution_count": 2,
   "metadata": {},
   "outputs": [],
   "source": [
    "# load data from database\n",
    "engine = create_engine('sqlite:///DisasterResponse.db')\n",
    "df = pd.read_sql_table('disaster_tweets', engine)\n",
    "X = df['message']\n",
    "y = df.drop(columns = ['id', 'message', 'original', 'genre'])"
   ]
  },
  {
   "cell_type": "markdown",
   "metadata": {},
   "source": [
    "Let's have a look at the labels distribution."
   ]
  },
  {
   "cell_type": "code",
   "execution_count": 3,
   "metadata": {},
   "outputs": [
    {
     "data": {
      "text/html": [
       "<div>\n",
       "<style scoped>\n",
       "    .dataframe tbody tr th:only-of-type {\n",
       "        vertical-align: middle;\n",
       "    }\n",
       "\n",
       "    .dataframe tbody tr th {\n",
       "        vertical-align: top;\n",
       "    }\n",
       "\n",
       "    .dataframe thead th {\n",
       "        text-align: right;\n",
       "    }\n",
       "</style>\n",
       "<table border=\"1\" class=\"dataframe\">\n",
       "  <thead>\n",
       "    <tr style=\"text-align: right;\">\n",
       "      <th></th>\n",
       "      <th>related</th>\n",
       "      <th>request</th>\n",
       "      <th>offer</th>\n",
       "      <th>aid_related</th>\n",
       "      <th>medical_help</th>\n",
       "      <th>medical_products</th>\n",
       "      <th>search_and_rescue</th>\n",
       "      <th>security</th>\n",
       "      <th>military</th>\n",
       "      <th>water</th>\n",
       "      <th>food</th>\n",
       "      <th>shelter</th>\n",
       "      <th>clothing</th>\n",
       "      <th>money</th>\n",
       "      <th>missing_people</th>\n",
       "      <th>refugees</th>\n",
       "      <th>death</th>\n",
       "      <th>other_aid</th>\n",
       "      <th>infrastructure_related</th>\n",
       "      <th>transport</th>\n",
       "      <th>buildings</th>\n",
       "      <th>electricity</th>\n",
       "      <th>tools</th>\n",
       "      <th>hospitals</th>\n",
       "      <th>shops</th>\n",
       "      <th>aid_centers</th>\n",
       "      <th>other_infrastructure</th>\n",
       "      <th>weather_related</th>\n",
       "      <th>floods</th>\n",
       "      <th>storm</th>\n",
       "      <th>fire</th>\n",
       "      <th>earthquake</th>\n",
       "      <th>cold</th>\n",
       "      <th>other_weather</th>\n",
       "      <th>direct_report</th>\n",
       "    </tr>\n",
       "  </thead>\n",
       "  <tbody>\n",
       "    <tr>\n",
       "      <th>count</th>\n",
       "      <td>26028.000000</td>\n",
       "      <td>26028.000000</td>\n",
       "      <td>26028.000000</td>\n",
       "      <td>26028.000000</td>\n",
       "      <td>26028.000000</td>\n",
       "      <td>26028.000000</td>\n",
       "      <td>26028.000000</td>\n",
       "      <td>26028.000000</td>\n",
       "      <td>26028.000000</td>\n",
       "      <td>26028.000000</td>\n",
       "      <td>26028.000000</td>\n",
       "      <td>26028.000000</td>\n",
       "      <td>26028.000000</td>\n",
       "      <td>26028.000000</td>\n",
       "      <td>26028.000000</td>\n",
       "      <td>26028.000000</td>\n",
       "      <td>26028.000000</td>\n",
       "      <td>26028.000000</td>\n",
       "      <td>26028.000000</td>\n",
       "      <td>26028.000000</td>\n",
       "      <td>26028.000000</td>\n",
       "      <td>26028.000000</td>\n",
       "      <td>26028.000000</td>\n",
       "      <td>26028.000000</td>\n",
       "      <td>26028.000000</td>\n",
       "      <td>26028.000000</td>\n",
       "      <td>26028.000000</td>\n",
       "      <td>26028.000000</td>\n",
       "      <td>26028.000000</td>\n",
       "      <td>26028.00000</td>\n",
       "      <td>26028.000000</td>\n",
       "      <td>26028.000000</td>\n",
       "      <td>26028.000000</td>\n",
       "      <td>26028.000000</td>\n",
       "      <td>26028.000000</td>\n",
       "    </tr>\n",
       "    <tr>\n",
       "      <th>mean</th>\n",
       "      <td>0.764792</td>\n",
       "      <td>0.171892</td>\n",
       "      <td>0.004534</td>\n",
       "      <td>0.417243</td>\n",
       "      <td>0.080068</td>\n",
       "      <td>0.050446</td>\n",
       "      <td>0.027816</td>\n",
       "      <td>0.018096</td>\n",
       "      <td>0.033041</td>\n",
       "      <td>0.064239</td>\n",
       "      <td>0.112302</td>\n",
       "      <td>0.088904</td>\n",
       "      <td>0.015560</td>\n",
       "      <td>0.023206</td>\n",
       "      <td>0.011449</td>\n",
       "      <td>0.033618</td>\n",
       "      <td>0.045874</td>\n",
       "      <td>0.132396</td>\n",
       "      <td>0.065506</td>\n",
       "      <td>0.046143</td>\n",
       "      <td>0.051214</td>\n",
       "      <td>0.020440</td>\n",
       "      <td>0.006109</td>\n",
       "      <td>0.010873</td>\n",
       "      <td>0.004610</td>\n",
       "      <td>0.011872</td>\n",
       "      <td>0.044222</td>\n",
       "      <td>0.280352</td>\n",
       "      <td>0.082795</td>\n",
       "      <td>0.09386</td>\n",
       "      <td>0.010834</td>\n",
       "      <td>0.094321</td>\n",
       "      <td>0.020363</td>\n",
       "      <td>0.052866</td>\n",
       "      <td>0.194982</td>\n",
       "    </tr>\n",
       "    <tr>\n",
       "      <th>std</th>\n",
       "      <td>0.424137</td>\n",
       "      <td>0.377294</td>\n",
       "      <td>0.067180</td>\n",
       "      <td>0.493113</td>\n",
       "      <td>0.271403</td>\n",
       "      <td>0.218867</td>\n",
       "      <td>0.164449</td>\n",
       "      <td>0.133301</td>\n",
       "      <td>0.178748</td>\n",
       "      <td>0.245182</td>\n",
       "      <td>0.315744</td>\n",
       "      <td>0.284611</td>\n",
       "      <td>0.123768</td>\n",
       "      <td>0.150559</td>\n",
       "      <td>0.106389</td>\n",
       "      <td>0.180246</td>\n",
       "      <td>0.209215</td>\n",
       "      <td>0.338927</td>\n",
       "      <td>0.247422</td>\n",
       "      <td>0.209798</td>\n",
       "      <td>0.220438</td>\n",
       "      <td>0.141501</td>\n",
       "      <td>0.077921</td>\n",
       "      <td>0.103707</td>\n",
       "      <td>0.067745</td>\n",
       "      <td>0.108311</td>\n",
       "      <td>0.205591</td>\n",
       "      <td>0.449180</td>\n",
       "      <td>0.275578</td>\n",
       "      <td>0.29164</td>\n",
       "      <td>0.103525</td>\n",
       "      <td>0.292281</td>\n",
       "      <td>0.141240</td>\n",
       "      <td>0.223771</td>\n",
       "      <td>0.396195</td>\n",
       "    </tr>\n",
       "    <tr>\n",
       "      <th>min</th>\n",
       "      <td>0.000000</td>\n",
       "      <td>0.000000</td>\n",
       "      <td>0.000000</td>\n",
       "      <td>0.000000</td>\n",
       "      <td>0.000000</td>\n",
       "      <td>0.000000</td>\n",
       "      <td>0.000000</td>\n",
       "      <td>0.000000</td>\n",
       "      <td>0.000000</td>\n",
       "      <td>0.000000</td>\n",
       "      <td>0.000000</td>\n",
       "      <td>0.000000</td>\n",
       "      <td>0.000000</td>\n",
       "      <td>0.000000</td>\n",
       "      <td>0.000000</td>\n",
       "      <td>0.000000</td>\n",
       "      <td>0.000000</td>\n",
       "      <td>0.000000</td>\n",
       "      <td>0.000000</td>\n",
       "      <td>0.000000</td>\n",
       "      <td>0.000000</td>\n",
       "      <td>0.000000</td>\n",
       "      <td>0.000000</td>\n",
       "      <td>0.000000</td>\n",
       "      <td>0.000000</td>\n",
       "      <td>0.000000</td>\n",
       "      <td>0.000000</td>\n",
       "      <td>0.000000</td>\n",
       "      <td>0.000000</td>\n",
       "      <td>0.00000</td>\n",
       "      <td>0.000000</td>\n",
       "      <td>0.000000</td>\n",
       "      <td>0.000000</td>\n",
       "      <td>0.000000</td>\n",
       "      <td>0.000000</td>\n",
       "    </tr>\n",
       "    <tr>\n",
       "      <th>25%</th>\n",
       "      <td>1.000000</td>\n",
       "      <td>0.000000</td>\n",
       "      <td>0.000000</td>\n",
       "      <td>0.000000</td>\n",
       "      <td>0.000000</td>\n",
       "      <td>0.000000</td>\n",
       "      <td>0.000000</td>\n",
       "      <td>0.000000</td>\n",
       "      <td>0.000000</td>\n",
       "      <td>0.000000</td>\n",
       "      <td>0.000000</td>\n",
       "      <td>0.000000</td>\n",
       "      <td>0.000000</td>\n",
       "      <td>0.000000</td>\n",
       "      <td>0.000000</td>\n",
       "      <td>0.000000</td>\n",
       "      <td>0.000000</td>\n",
       "      <td>0.000000</td>\n",
       "      <td>0.000000</td>\n",
       "      <td>0.000000</td>\n",
       "      <td>0.000000</td>\n",
       "      <td>0.000000</td>\n",
       "      <td>0.000000</td>\n",
       "      <td>0.000000</td>\n",
       "      <td>0.000000</td>\n",
       "      <td>0.000000</td>\n",
       "      <td>0.000000</td>\n",
       "      <td>0.000000</td>\n",
       "      <td>0.000000</td>\n",
       "      <td>0.00000</td>\n",
       "      <td>0.000000</td>\n",
       "      <td>0.000000</td>\n",
       "      <td>0.000000</td>\n",
       "      <td>0.000000</td>\n",
       "      <td>0.000000</td>\n",
       "    </tr>\n",
       "    <tr>\n",
       "      <th>50%</th>\n",
       "      <td>1.000000</td>\n",
       "      <td>0.000000</td>\n",
       "      <td>0.000000</td>\n",
       "      <td>0.000000</td>\n",
       "      <td>0.000000</td>\n",
       "      <td>0.000000</td>\n",
       "      <td>0.000000</td>\n",
       "      <td>0.000000</td>\n",
       "      <td>0.000000</td>\n",
       "      <td>0.000000</td>\n",
       "      <td>0.000000</td>\n",
       "      <td>0.000000</td>\n",
       "      <td>0.000000</td>\n",
       "      <td>0.000000</td>\n",
       "      <td>0.000000</td>\n",
       "      <td>0.000000</td>\n",
       "      <td>0.000000</td>\n",
       "      <td>0.000000</td>\n",
       "      <td>0.000000</td>\n",
       "      <td>0.000000</td>\n",
       "      <td>0.000000</td>\n",
       "      <td>0.000000</td>\n",
       "      <td>0.000000</td>\n",
       "      <td>0.000000</td>\n",
       "      <td>0.000000</td>\n",
       "      <td>0.000000</td>\n",
       "      <td>0.000000</td>\n",
       "      <td>0.000000</td>\n",
       "      <td>0.000000</td>\n",
       "      <td>0.00000</td>\n",
       "      <td>0.000000</td>\n",
       "      <td>0.000000</td>\n",
       "      <td>0.000000</td>\n",
       "      <td>0.000000</td>\n",
       "      <td>0.000000</td>\n",
       "    </tr>\n",
       "    <tr>\n",
       "      <th>75%</th>\n",
       "      <td>1.000000</td>\n",
       "      <td>0.000000</td>\n",
       "      <td>0.000000</td>\n",
       "      <td>1.000000</td>\n",
       "      <td>0.000000</td>\n",
       "      <td>0.000000</td>\n",
       "      <td>0.000000</td>\n",
       "      <td>0.000000</td>\n",
       "      <td>0.000000</td>\n",
       "      <td>0.000000</td>\n",
       "      <td>0.000000</td>\n",
       "      <td>0.000000</td>\n",
       "      <td>0.000000</td>\n",
       "      <td>0.000000</td>\n",
       "      <td>0.000000</td>\n",
       "      <td>0.000000</td>\n",
       "      <td>0.000000</td>\n",
       "      <td>0.000000</td>\n",
       "      <td>0.000000</td>\n",
       "      <td>0.000000</td>\n",
       "      <td>0.000000</td>\n",
       "      <td>0.000000</td>\n",
       "      <td>0.000000</td>\n",
       "      <td>0.000000</td>\n",
       "      <td>0.000000</td>\n",
       "      <td>0.000000</td>\n",
       "      <td>0.000000</td>\n",
       "      <td>1.000000</td>\n",
       "      <td>0.000000</td>\n",
       "      <td>0.00000</td>\n",
       "      <td>0.000000</td>\n",
       "      <td>0.000000</td>\n",
       "      <td>0.000000</td>\n",
       "      <td>0.000000</td>\n",
       "      <td>0.000000</td>\n",
       "    </tr>\n",
       "    <tr>\n",
       "      <th>max</th>\n",
       "      <td>1.000000</td>\n",
       "      <td>1.000000</td>\n",
       "      <td>1.000000</td>\n",
       "      <td>1.000000</td>\n",
       "      <td>1.000000</td>\n",
       "      <td>1.000000</td>\n",
       "      <td>1.000000</td>\n",
       "      <td>1.000000</td>\n",
       "      <td>1.000000</td>\n",
       "      <td>1.000000</td>\n",
       "      <td>1.000000</td>\n",
       "      <td>1.000000</td>\n",
       "      <td>1.000000</td>\n",
       "      <td>1.000000</td>\n",
       "      <td>1.000000</td>\n",
       "      <td>1.000000</td>\n",
       "      <td>1.000000</td>\n",
       "      <td>1.000000</td>\n",
       "      <td>1.000000</td>\n",
       "      <td>1.000000</td>\n",
       "      <td>1.000000</td>\n",
       "      <td>1.000000</td>\n",
       "      <td>1.000000</td>\n",
       "      <td>1.000000</td>\n",
       "      <td>1.000000</td>\n",
       "      <td>1.000000</td>\n",
       "      <td>1.000000</td>\n",
       "      <td>1.000000</td>\n",
       "      <td>1.000000</td>\n",
       "      <td>1.00000</td>\n",
       "      <td>1.000000</td>\n",
       "      <td>1.000000</td>\n",
       "      <td>1.000000</td>\n",
       "      <td>1.000000</td>\n",
       "      <td>1.000000</td>\n",
       "    </tr>\n",
       "  </tbody>\n",
       "</table>\n",
       "</div>"
      ],
      "text/plain": [
       "            related       request         offer   aid_related  medical_help  \\\n",
       "count  26028.000000  26028.000000  26028.000000  26028.000000  26028.000000   \n",
       "mean       0.764792      0.171892      0.004534      0.417243      0.080068   \n",
       "std        0.424137      0.377294      0.067180      0.493113      0.271403   \n",
       "min        0.000000      0.000000      0.000000      0.000000      0.000000   \n",
       "25%        1.000000      0.000000      0.000000      0.000000      0.000000   \n",
       "50%        1.000000      0.000000      0.000000      0.000000      0.000000   \n",
       "75%        1.000000      0.000000      0.000000      1.000000      0.000000   \n",
       "max        1.000000      1.000000      1.000000      1.000000      1.000000   \n",
       "\n",
       "       medical_products  search_and_rescue      security      military  \\\n",
       "count      26028.000000       26028.000000  26028.000000  26028.000000   \n",
       "mean           0.050446           0.027816      0.018096      0.033041   \n",
       "std            0.218867           0.164449      0.133301      0.178748   \n",
       "min            0.000000           0.000000      0.000000      0.000000   \n",
       "25%            0.000000           0.000000      0.000000      0.000000   \n",
       "50%            0.000000           0.000000      0.000000      0.000000   \n",
       "75%            0.000000           0.000000      0.000000      0.000000   \n",
       "max            1.000000           1.000000      1.000000      1.000000   \n",
       "\n",
       "              water          food       shelter      clothing         money  \\\n",
       "count  26028.000000  26028.000000  26028.000000  26028.000000  26028.000000   \n",
       "mean       0.064239      0.112302      0.088904      0.015560      0.023206   \n",
       "std        0.245182      0.315744      0.284611      0.123768      0.150559   \n",
       "min        0.000000      0.000000      0.000000      0.000000      0.000000   \n",
       "25%        0.000000      0.000000      0.000000      0.000000      0.000000   \n",
       "50%        0.000000      0.000000      0.000000      0.000000      0.000000   \n",
       "75%        0.000000      0.000000      0.000000      0.000000      0.000000   \n",
       "max        1.000000      1.000000      1.000000      1.000000      1.000000   \n",
       "\n",
       "       missing_people      refugees         death     other_aid  \\\n",
       "count    26028.000000  26028.000000  26028.000000  26028.000000   \n",
       "mean         0.011449      0.033618      0.045874      0.132396   \n",
       "std          0.106389      0.180246      0.209215      0.338927   \n",
       "min          0.000000      0.000000      0.000000      0.000000   \n",
       "25%          0.000000      0.000000      0.000000      0.000000   \n",
       "50%          0.000000      0.000000      0.000000      0.000000   \n",
       "75%          0.000000      0.000000      0.000000      0.000000   \n",
       "max          1.000000      1.000000      1.000000      1.000000   \n",
       "\n",
       "       infrastructure_related     transport     buildings   electricity  \\\n",
       "count            26028.000000  26028.000000  26028.000000  26028.000000   \n",
       "mean                 0.065506      0.046143      0.051214      0.020440   \n",
       "std                  0.247422      0.209798      0.220438      0.141501   \n",
       "min                  0.000000      0.000000      0.000000      0.000000   \n",
       "25%                  0.000000      0.000000      0.000000      0.000000   \n",
       "50%                  0.000000      0.000000      0.000000      0.000000   \n",
       "75%                  0.000000      0.000000      0.000000      0.000000   \n",
       "max                  1.000000      1.000000      1.000000      1.000000   \n",
       "\n",
       "              tools     hospitals         shops   aid_centers  \\\n",
       "count  26028.000000  26028.000000  26028.000000  26028.000000   \n",
       "mean       0.006109      0.010873      0.004610      0.011872   \n",
       "std        0.077921      0.103707      0.067745      0.108311   \n",
       "min        0.000000      0.000000      0.000000      0.000000   \n",
       "25%        0.000000      0.000000      0.000000      0.000000   \n",
       "50%        0.000000      0.000000      0.000000      0.000000   \n",
       "75%        0.000000      0.000000      0.000000      0.000000   \n",
       "max        1.000000      1.000000      1.000000      1.000000   \n",
       "\n",
       "       other_infrastructure  weather_related        floods        storm  \\\n",
       "count          26028.000000     26028.000000  26028.000000  26028.00000   \n",
       "mean               0.044222         0.280352      0.082795      0.09386   \n",
       "std                0.205591         0.449180      0.275578      0.29164   \n",
       "min                0.000000         0.000000      0.000000      0.00000   \n",
       "25%                0.000000         0.000000      0.000000      0.00000   \n",
       "50%                0.000000         0.000000      0.000000      0.00000   \n",
       "75%                0.000000         1.000000      0.000000      0.00000   \n",
       "max                1.000000         1.000000      1.000000      1.00000   \n",
       "\n",
       "               fire    earthquake          cold  other_weather  direct_report  \n",
       "count  26028.000000  26028.000000  26028.000000   26028.000000   26028.000000  \n",
       "mean       0.010834      0.094321      0.020363       0.052866       0.194982  \n",
       "std        0.103525      0.292281      0.141240       0.223771       0.396195  \n",
       "min        0.000000      0.000000      0.000000       0.000000       0.000000  \n",
       "25%        0.000000      0.000000      0.000000       0.000000       0.000000  \n",
       "50%        0.000000      0.000000      0.000000       0.000000       0.000000  \n",
       "75%        0.000000      0.000000      0.000000       0.000000       0.000000  \n",
       "max        1.000000      1.000000      1.000000       1.000000       1.000000  "
      ]
     },
     "execution_count": 3,
     "metadata": {},
     "output_type": "execute_result"
    }
   ],
   "source": [
    "pd.set_option('display.max_columns', 50)\n",
    "df_desc = y.describe(include = 'all')\n",
    "df_desc"
   ]
  },
  {
   "cell_type": "code",
   "execution_count": 4,
   "metadata": {},
   "outputs": [],
   "source": [
    "df_desc.sort_values(by='mean', axis=1, inplace=True, ascending=False)\n",
    "lst = (df_desc.iloc[[1]]).values"
   ]
  },
  {
   "cell_type": "code",
   "execution_count": 5,
   "metadata": {},
   "outputs": [
    {
     "data": {
      "image/png": "[encoded data removed]",
      "text/plain": [
       "<matplotlib.figure.Figure at 0x7f4422510a20>"
      ]
     },
     "metadata": {
      "needs_background": "light"
     },
     "output_type": "display_data"
    }
   ],
   "source": [
    "plt.bar(x = np.arange(35), height = lst[0]*100)\n",
    "plt.ylabel(\"% positive\", fontsize = 18)\n",
    "plt.xlabel(\"Category\", fontsize = 18)\n",
    "plt.xticks(np.arange(35), df_desc.columns, rotation='vertical', fontsize = 12)\n",
    "plt.yticks(np.arange(0,100,10), np.arange(0,100,10), fontsize = 12)\n",
    "fig= plt.gcf()\n",
    "fig.set_size_inches(18.5, 10.5)"
   ]
  },
  {
   "cell_type": "markdown",
   "metadata": {},
   "source": [
    "Distribution of categories is unbalanced. This means that accuracy is not suitable as performance score. In this notebook precision, recall and f1 score will be used with macro averaging method to evaluate model predictions. Macro averaging means the scores for all labels are avaraged with the same weights as if the distribution was uniform. Additionaly ROC AUC score (Area Under the Receiver Operating Characteristic Curve) will be used."
   ]
  },
  {
   "cell_type": "code",
   "execution_count": 27,
   "metadata": {},
   "outputs": [
    {
     "data": {
      "image/png": "[encoded data removed]",
      "text/plain": [
       "<matplotlib.figure.Figure at 0x7f44222e1470>"
      ]
     },
     "metadata": {
      "needs_background": "light"
     },
     "output_type": "display_data"
    }
   ],
   "source": [
    "plt.hist(y[y['related']==1].sum(axis = 1))\n",
    "plt.yscale('log', nonposy='clip')\n",
    "plt.xlabel(\"Number of categories\")\n",
    "plt.ylabel(\"Number of messages\")\n",
    "plt.show()"
   ]
  },
  {
   "cell_type": "markdown",
   "metadata": {},
   "source": [
    "### 2. Write a tokenization function to process your text data"
   ]
  },
  {
   "cell_type": "code",
   "execution_count": 3,
   "metadata": {},
   "outputs": [],
   "source": [
    "def tokenize(text): \n",
    "    # remove non-letter characters\n",
    "    text = re.sub(r\"[^a-zA-Z]\", \" \", text.lower())\n",
    "    # tokenize\n",
    "    tokens = word_tokenize(text)\n",
    "    # lemmatize\n",
    "    lemmatizer = WordNetLemmatizer()\n",
    "    clean_tokens = []\n",
    "    for tok in tokens:\n",
    "        clean_tok = lemmatizer.lemmatize(tok).lower().strip()\n",
    "        clean_tokens.append(clean_tok)\n",
    " \n",
    "    return clean_tokens"
   ]
  },
  {
   "cell_type": "code",
   "execution_count": 4,
   "metadata": {},
   "outputs": [],
   "source": [
    "class NounsExtractor(BaseEstimator, TransformerMixin):\n",
    "\n",
    "    def get_nouns(self, text):\n",
    "        sentence_list = nltk.sent_tokenize(text)\n",
    "        nouns =[]\n",
    "        for sentence in sentence_list:\n",
    "            pos_tags = nltk.pos_tag(tokenize(sentence))\n",
    "            nouns = nouns + [word.lower() for word,pos in pos_tags if(pos == 'NN' or pos == 'NNS')]\n",
    "        return ' '.join(nouns)\n",
    "\n",
    "    def fit(self, X, y=None):\n",
    "        return self\n",
    "\n",
    "    def transform(self, X):\n",
    "        X_tagged = pd.Series(X).apply(self.get_nouns)\n",
    "        return X_tagged"
   ]
  },
  {
   "cell_type": "markdown",
   "metadata": {},
   "source": [
    "### 3. Build a machine learning pipeline\n",
    "This machine pipeline should take in the `message` column as input and output classification results on the other 36 categories in the dataset. You may find the [MultiOutputClassifier](http://scikit-learn.org/stable/modules/generated/sklearn.multioutput.MultiOutputClassifier.html) helpful for predicting multiple target variables."
   ]
  },
  {
   "cell_type": "code",
   "execution_count": 22,
   "metadata": {},
   "outputs": [],
   "source": [
    "def build_cv(pipeline, parameters):\n",
    "\n",
    "    # create grid search object\n",
    "    cv = GridSearchCV(pipeline, param_grid = parameters, verbose = 5, n_jobs = -1, scoring = 'recall_weighted', refit = True,\n",
    "                     return_train_score = False)\n",
    "    \n",
    "    return cv"
   ]
  },
  {
   "cell_type": "code",
   "execution_count": 6,
   "metadata": {},
   "outputs": [],
   "source": [
    "def show_results(y_test, y_pred, print_report):\n",
    "    f1 = []\n",
    "    prcs = []\n",
    "    recl = []\n",
    "    rocauc = []\n",
    "    for i, label in enumerate(y.columns):\n",
    "        true = y_test[label].values\n",
    "        pred = y_pred[label].values\n",
    "        if print_report:\n",
    "            print('Classification result for category \\\"{}\\\":'.format(label))\n",
    "            print(classification_report(true, pred))\n",
    "        f1.append((f1_score(true, pred, average = 'macro')))\n",
    "        prcs.append(precision_score(true, pred, average = 'macro'))\n",
    "        recl.append(recall_score(true, pred, average = 'macro'))\n",
    "        rocauc.append(roc_auc_score(true, pred, average = 'macro'))\n",
    "\n",
    "    return (pd.DataFrame.from_dict({'label':y.columns, 'precision':prcs, 'recall':recl, 'f1':f1, 'roc_auc':rocauc}))"
   ]
  },
  {
   "cell_type": "markdown",
   "metadata": {},
   "source": [
    "### 4. Train pipeline\n",
    "- Split data into train and test sets\n",
    "- Train pipeline"
   ]
  },
  {
   "cell_type": "code",
   "execution_count": 9,
   "metadata": {},
   "outputs": [],
   "source": [
    "X_train, X_test, y_train, y_test = train_test_split(X, y, random_state = 1)"
   ]
  },
  {
   "cell_type": "markdown",
   "metadata": {},
   "source": [
    "#### 4.1. Train \"related\" classifier"
   ]
  },
  {
   "cell_type": "markdown",
   "metadata": {},
   "source": [
    "During data analysis it was shown that only messages which are labeled \"related\" contain other labels as well. One approach would be the following:\n",
    "- First classfier will be trained for \"related\" label. This feature also has higher importance as it helps to filter out messages related to disaster.\n",
    "\n",
    "- Second classifier will be trained for remaining labels to identify different labels for the categories based on experience with \"related\" classifier ."
   ]
  },
  {
   "cell_type": "markdown",
   "metadata": {},
   "source": [
    "The \"related\" column is right-heavy:"
   ]
  },
  {
   "cell_type": "code",
   "execution_count": 26,
   "metadata": {},
   "outputs": [
    {
     "data": {
      "text/plain": [
       "([<matplotlib.axis.XTick at 0x7f4421d863c8>,\n",
       "  <matplotlib.axis.XTick at 0x7f4421d86fd0>],\n",
       " <a list of 2 Text xticklabel objects>)"
      ]
     },
     "execution_count": 26,
     "metadata": {},
     "output_type": "execute_result"
    },
    {
     "data": {
      "image/png": "[encoded data removed]",
      "text/plain": [
       "<matplotlib.figure.Figure at 0x7f44220586a0>"
      ]
     },
     "metadata": {
      "needs_background": "light"
     },
     "output_type": "display_data"
    }
   ],
   "source": [
    "plt.hist(df['related']);\n",
    "plt.xlabel(\"Related\")\n",
    "plt.ylabel(\"Number of messages\")\n",
    "plt.xticks(np.arange(0,2), ['no','yes'])"
   ]
  },
  {
   "cell_type": "code",
   "execution_count": null,
   "metadata": {},
   "outputs": [],
   "source": [
    "df['related'].mean()"
   ]
  },
  {
   "cell_type": "markdown",
   "metadata": {},
   "source": [
    "Dealing with imbalanced classes is complicated. To compensate for imbalance a function will be introduced to simply pad the underrepresented class until the proportion of minority class is in desired range."
   ]
  },
  {
   "cell_type": "code",
   "execution_count": 7,
   "metadata": {},
   "outputs": [],
   "source": [
    "def padToBalance(X, y):\n",
    "    # find minority class\n",
    "    if((y.sum() / y.shape[0]) > 0.5):\n",
    "        minority = 0\n",
    "    else:\n",
    "        minority = 1\n",
    "    # initialize outputs\n",
    "    X_bal = X\n",
    "    y_bal = y\n",
    "    # pad the data until minority class is at least 25%\n",
    "    while((y_bal == minority).sum() < 0.25 * y.shape[0]):\n",
    "        X_bal = pd.concat([X_bal, X[y == minority]])\n",
    "        y_bal = pd.concat([y_bal, y[y == minority]])\n",
    "    \n",
    "    return X_bal, y_bal"
   ]
  },
  {
   "cell_type": "code",
   "execution_count": null,
   "metadata": {},
   "outputs": [],
   "source": [
    "X_train_bal, y_train_bal = padToBalance(X_train, y_train['related'])\n",
    "\n",
    "MLPC_pipeline = Pipeline([\n",
    "    #('noun', NounsExtractor()),\n",
    "    ('vect', CountVectorizer(tokenizer = tokenize)),\n",
    "    #('tfidf', TfidfTransformer()),\n",
    "    ('clf', MLPClassifier(activation='relu', alpha=0.001, batch_size=200, beta_1=0.9,\n",
    "                           beta_2=0.999, early_stopping=True, epsilon=1e-8,\n",
    "                           hidden_layer_sizes=(55), learning_rate='constant',\n",
    "                           learning_rate_init=0.001, max_iter=200, momentum=0.9,\n",
    "                           nesterovs_momentum=True, power_t=0.5, random_state=1, shuffle=True,\n",
    "                           solver='adam', tol=0.01, validation_fraction=0.1, verbose=True,\n",
    "                           warm_start=False))\n",
    "])\n",
    "\n",
    "MLPC_pipeline.fit(X_train_bal, y_train_bal)"
   ]
  },
  {
   "cell_type": "code",
   "execution_count": null,
   "metadata": {},
   "outputs": [],
   "source": [
    "y_pred = MLPC_pipeline.predict(X_test)\n",
    "true = y_test['related'].values\n",
    "pred = np.squeeze(y_pred)\n",
    "print(classification_report(true, pred))"
   ]
  },
  {
   "cell_type": "code",
   "execution_count": null,
   "metadata": {},
   "outputs": [],
   "source": [
    "print('ROC AUC score (macro-averaged)', roc_auc_score(true, pred, average = 'macro'))\n",
    "print('F1 score (macro-averaged)', f1_score(true, pred, average = 'macro'))"
   ]
  },
  {
   "cell_type": "code",
   "execution_count": null,
   "metadata": {},
   "outputs": [],
   "source": [
    "MLPC_pipeline.named_steps['clf']"
   ]
  },
  {
   "cell_type": "markdown",
   "metadata": {},
   "source": [
    "#### 4.2. Training categories classifiers"
   ]
  },
  {
   "cell_type": "markdown",
   "metadata": {},
   "source": [
    "Training data needs to be balanced. Instead of a multi-output classifier we will use a dictionary of pipelines."
   ]
  },
  {
   "cell_type": "code",
   "execution_count": null,
   "metadata": {},
   "outputs": [],
   "source": [
    "MLPC_pipeline_dict = {}\n",
    "countvec = CountVectorizer(tokenizer = tokenize)\n",
    "start = timeit.default_timer()\n",
    "for i,label in enumerate(y.columns):\n",
    "    MLPC_pipeline_dict[label] = Pipeline([\n",
    "        ('vect', countvec),\n",
    "        ('clf',MLPClassifier(activation='relu', alpha=0.001, batch_size=200, beta_1=0.9,\n",
    "                               beta_2=0.999, early_stopping=True, epsilon=1e-08,\n",
    "                               hidden_layer_sizes=55, learning_rate='constant',\n",
    "                               learning_rate_init=0.001, max_iter=200, momentum=0.9,\n",
    "                               nesterovs_momentum=True, power_t=0.5, random_state=1, shuffle=True,\n",
    "                               solver='adam', tol=0.01, validation_fraction=0.1, verbose=True,\n",
    "                               warm_start=False))\n",
    "    ])\n",
    "    print('Training classifier {} of {} for \\\"{}\\\"'.format(i, len(y.columns), label))\n",
    "    X_train_bal, y_train_bal = padToBalance(X_train, y_train[label])\n",
    "    print(y_train_bal.sum()/y_train_bal.shape[0])\n",
    "    MLPC_pipeline_dict[label].fit(X_train_bal, y_train_bal)\n",
    "stop = timeit.default_timer()\n",
    "\n",
    "MLPC_training_time = stop - start"
   ]
  },
  {
   "cell_type": "code",
   "execution_count": null,
   "metadata": {},
   "outputs": [],
   "source": [
    "print('MLCP pipeline training time: {:.2f} seconds'.format(MLPC_training_time))"
   ]
  },
  {
   "cell_type": "markdown",
   "metadata": {},
   "source": [
    "### 5. Test your model\n",
    "Report the f1 score, precision and recall for each output category of the dataset. You can do this by iterating through the columns and calling sklearn's `classification_report` on each."
   ]
  },
  {
   "cell_type": "code",
   "execution_count": null,
   "metadata": {},
   "outputs": [],
   "source": [
    "MLPC_pipeline_pred_dict = {}\n",
    "start = timeit.default_timer()\n",
    "for label in y.columns:\n",
    "    MLPC_pipeline_pred_dict[label] = MLPC_pipeline_dict[label].predict(X_test)\n",
    "stop = timeit.default_timer()\n",
    "MLPC_predict_time = stop - start\n",
    "    \n",
    "y_pred = pd.DataFrame.from_dict(MLPC_pipeline_pred_dict)\n",
    "results_MLPC = show_results(y_test, y_pred, print_report = False)\n",
    "results_MLPC.mean()"
   ]
  },
  {
   "cell_type": "code",
   "execution_count": null,
   "metadata": {},
   "outputs": [],
   "source": [
    "print('MLCP pipeline predict time: {:.2f} seconds'.format(MLPC_predict_time))"
   ]
  },
  {
   "cell_type": "markdown",
   "metadata": {},
   "source": [
    "### 6. Improve your model\n",
    "Use grid search to find better parameters. "
   ]
  },
  {
   "cell_type": "markdown",
   "metadata": {},
   "source": [
    "Grid search is computationally expensive, so it would be very time consuming to perform it on a multi output model. Also evaluation of multiple classifications will be complex. Instead grid search was applied to the \"related\" column in the section 4.1 to fine-tune MLPC parameters."
   ]
  },
  {
   "cell_type": "code",
   "execution_count": 24,
   "metadata": {},
   "outputs": [
    {
     "name": "stdout",
     "output_type": "stream",
     "text": [
      "Fitting 3 folds for each of 4 candidates, totalling 12 fits\n",
      "[CV] clf__estimator__class_weight=balanced, clf__estimator__max_iter=1000 \n",
      "[CV]  clf__estimator__class_weight=balanced, clf__estimator__max_iter=1000, score=0.44188445517665553, total=  24.7s\n",
      "[CV] clf__estimator__class_weight=balanced, clf__estimator__max_iter=1000 \n"
     ]
    },
    {
     "name": "stderr",
     "output_type": "stream",
     "text": [
      "[Parallel(n_jobs=-1)]: Done   1 out of   1 | elapsed:   24.7s remaining:    0.0s\n"
     ]
    },
    {
     "name": "stdout",
     "output_type": "stream",
     "text": [
      "[CV]  clf__estimator__class_weight=balanced, clf__estimator__max_iter=1000, score=0.4501853008808207, total=  21.6s\n",
      "[CV] clf__estimator__class_weight=balanced, clf__estimator__max_iter=1000 \n"
     ]
    },
    {
     "name": "stderr",
     "output_type": "stream",
     "text": [
      "[Parallel(n_jobs=-1)]: Done   2 out of   2 | elapsed:   46.2s remaining:    0.0s\n"
     ]
    },
    {
     "name": "stdout",
     "output_type": "stream",
     "text": [
      "[CV]  clf__estimator__class_weight=balanced, clf__estimator__max_iter=1000, score=0.44475885503608986, total=  24.9s\n",
      "[CV] clf__estimator__class_weight=balanced, clf__estimator__max_iter=10000 \n"
     ]
    },
    {
     "name": "stderr",
     "output_type": "stream",
     "text": [
      "[Parallel(n_jobs=-1)]: Done   3 out of   3 | elapsed:  1.2min remaining:    0.0s\n"
     ]
    },
    {
     "name": "stdout",
     "output_type": "stream",
     "text": [
      "[CV]  clf__estimator__class_weight=balanced, clf__estimator__max_iter=10000, score=0.44188445517665553, total=  26.2s\n",
      "[CV] clf__estimator__class_weight=balanced, clf__estimator__max_iter=10000 \n"
     ]
    },
    {
     "name": "stderr",
     "output_type": "stream",
     "text": [
      "[Parallel(n_jobs=-1)]: Done   4 out of   4 | elapsed:  1.6min remaining:    0.0s\n"
     ]
    },
    {
     "name": "stdout",
     "output_type": "stream",
     "text": [
      "[CV]  clf__estimator__class_weight=balanced, clf__estimator__max_iter=10000, score=0.4501853008808207, total=  21.6s\n",
      "[CV] clf__estimator__class_weight=balanced, clf__estimator__max_iter=10000 \n",
      "[CV]  clf__estimator__class_weight=balanced, clf__estimator__max_iter=10000, score=0.44475885503608986, total=  26.4s\n",
      "[CV] clf__estimator__class_weight=None, clf__estimator__max_iter=1000 \n",
      "[CV]  clf__estimator__class_weight=None, clf__estimator__max_iter=1000, score=0.34285273388363835, total=  14.8s\n",
      "[CV] clf__estimator__class_weight=None, clf__estimator__max_iter=1000 \n",
      "[CV]  clf__estimator__class_weight=None, clf__estimator__max_iter=1000, score=0.35126527341765273, total=  14.5s\n",
      "[CV] clf__estimator__class_weight=None, clf__estimator__max_iter=1000 \n",
      "[CV]  clf__estimator__class_weight=None, clf__estimator__max_iter=1000, score=0.3398264301191825, total=  14.3s\n",
      "[CV] clf__estimator__class_weight=None, clf__estimator__max_iter=10000 \n",
      "[CV]  clf__estimator__class_weight=None, clf__estimator__max_iter=10000, score=0.34285273388363835, total=  15.0s\n",
      "[CV] clf__estimator__class_weight=None, clf__estimator__max_iter=10000 \n",
      "[CV]  clf__estimator__class_weight=None, clf__estimator__max_iter=10000, score=0.35126527341765273, total=  15.2s\n",
      "[CV] clf__estimator__class_weight=None, clf__estimator__max_iter=10000 \n",
      "[CV]  clf__estimator__class_weight=None, clf__estimator__max_iter=10000, score=0.3398264301191825, total=  14.8s\n"
     ]
    },
    {
     "name": "stderr",
     "output_type": "stream",
     "text": [
      "[Parallel(n_jobs=-1)]: Done  12 out of  12 | elapsed:  3.9min finished\n"
     ]
    },
    {
     "name": "stdout",
     "output_type": "stream",
     "text": [
      "Linear SVC pipeline grid search training time: 271.38 seconds\n"
     ]
    }
   ],
   "source": [
    "model_SVC = Pipeline([\n",
    "        ('vect', CountVectorizer(tokenizer = tokenize, ngram_range = (1,2), stop_words = 'english')),\n",
    "        ('tfidf', TfidfTransformer()),\n",
    "        ('clf', MultiOutputClassifier(LinearSVC(class_weight = 'balanced', random_state = 1)))\n",
    "    ])\n",
    "\n",
    "parameters_SVC = {\n",
    "    'clf__estimator__max_iter': [1000, 10000],\n",
    "    'clf__estimator__class_weight': ['balanced', None]\n",
    "}\n",
    "\n",
    "lin_SVC_cv = build_cv(model_SVC, parameters_SVC)\n",
    "\n",
    "start = timeit.default_timer()\n",
    "lin_SVC_cv.fit(X_train, y_train)\n",
    "stop = timeit.default_timer()\n",
    "SVC_training_time = stop - start\n",
    "\n",
    "print('Linear SVC pipeline grid search training time: {:.2f} seconds'.format(SVC_training_time))"
   ]
  },
  {
   "cell_type": "code",
   "execution_count": 25,
   "metadata": {},
   "outputs": [
    {
     "data": {
      "text/plain": [
       "Pipeline(memory=None,\n",
       "     steps=[('vect', CountVectorizer(analyzer='word', binary=False, decode_error='strict',\n",
       "        dtype=<class 'numpy.int64'>, encoding='utf-8', input='content',\n",
       "        lowercase=True, max_df=1.0, max_features=None, min_df=1,\n",
       "        ngram_range=(1, 2), preprocessor=None, stop_words='english',\n",
       "        ...multi_class='ovr', penalty='l2', random_state=1, tol=0.0001,\n",
       "     verbose=0),\n",
       "           n_jobs=1))])"
      ]
     },
     "execution_count": 25,
     "metadata": {},
     "output_type": "execute_result"
    }
   ],
   "source": [
    "lin_SVC_cv.best_estimator_"
   ]
  },
  {
   "cell_type": "markdown",
   "metadata": {},
   "source": [
    "### 7. Test your model\n",
    "Show the accuracy, precision, and recall of the tuned model.  \n",
    "\n",
    "Since this project focuses on code quality, process, and  pipelines, there is no minimum performance metric needed to pass. However, make sure to fine tune your models for accuracy, precision and recall to make your project stand out - especially for your portfolio!"
   ]
  },
  {
   "cell_type": "code",
   "execution_count": null,
   "metadata": {},
   "outputs": [],
   "source": [
    "show_results(y_test, y_pred, print_report = False)"
   ]
  },
  {
   "cell_type": "markdown",
   "metadata": {},
   "source": [
    "### 8. Try improving your model further. Here are a few ideas:\n",
    "* try other machine learning algorithms\n",
    "* add other features besides the TF-IDF"
   ]
  },
  {
   "cell_type": "markdown",
   "metadata": {},
   "source": [
    "##### Random Forest 100 estimators"
   ]
  },
  {
   "cell_type": "code",
   "execution_count": null,
   "metadata": {},
   "outputs": [],
   "source": [
    "model_RF = Pipeline([\n",
    "        ('vect', CountVectorizer(tokenizer = tokenize)),\n",
    "        ('clf', MultiOutputClassifier(RandomForestClassifier(n_estimators = 100, min_samples_split = 4)))\n",
    "    ])\n",
    "\n",
    "start = timeit.default_timer()\n",
    "model_RF.fit(X_train, y_train)\n",
    "stop = timeit.default_timer()\n",
    "\n",
    "RF_training_time = stop - start"
   ]
  },
  {
   "cell_type": "code",
   "execution_count": null,
   "metadata": {},
   "outputs": [],
   "source": [
    "print('RF pipeline training time: {:.2f} seconds'.format(RF_training_time))"
   ]
  },
  {
   "cell_type": "code",
   "execution_count": null,
   "metadata": {},
   "outputs": [],
   "source": [
    "start = timeit.default_timer()\n",
    "y_pred = pd.DataFrame(model_RF.predict(X_test), columns = y.columns)\n",
    "stop = timeit.default_timer()\n",
    "RF_predict_time = stop - start\n",
    "results_RF = show_results(y_test, y_pred, print_report = False)\n",
    "results_RF.mean()"
   ]
  },
  {
   "cell_type": "code",
   "execution_count": null,
   "metadata": {},
   "outputs": [],
   "source": [
    "print('RF pipeline predict time: {:.2f} seconds'.format(RF_predict_time))"
   ]
  },
  {
   "cell_type": "markdown",
   "metadata": {},
   "source": [
    "##### Multinomial NB"
   ]
  },
  {
   "cell_type": "code",
   "execution_count": null,
   "metadata": {},
   "outputs": [],
   "source": [
    "model_NB = Pipeline([\n",
    "        ('vect', CountVectorizer(tokenizer=tokenize, stop_words = 'english')),\n",
    "        ('clf', MultiOutputClassifier(MultinomialNB(fit_prior = False)))\n",
    "    ])\n",
    "\n",
    "start = timeit.default_timer()\n",
    "model_NB.fit(X_train, y_train)\n",
    "stop = timeit.default_timer()\n",
    "\n",
    "NB_training_time = stop - start\n",
    "\n",
    "print('NB pipeline training time: {:.2f} seconds'.format(NB_training_time))"
   ]
  },
  {
   "cell_type": "code",
   "execution_count": null,
   "metadata": {},
   "outputs": [],
   "source": [
    "start = timeit.default_timer()\n",
    "y_pred = pd.DataFrame(model_NB.predict(X_test), columns = y.columns)\n",
    "stop = timeit.default_timer()\n",
    "NB_predict_time = stop - start\n",
    "results_NB = show_results(y_test, y_pred, print_report = False)\n",
    "results_NB.mean()"
   ]
  },
  {
   "cell_type": "code",
   "execution_count": null,
   "metadata": {},
   "outputs": [],
   "source": [
    "print('NB pipeline predict time: {:.2f} seconds'.format(NB_predict_time))"
   ]
  },
  {
   "cell_type": "markdown",
   "metadata": {},
   "source": [
    "##### Linear SVC"
   ]
  },
  {
   "cell_type": "code",
   "execution_count": 26,
   "metadata": {},
   "outputs": [
    {
     "name": "stdout",
     "output_type": "stream",
     "text": [
      "Linear SVC pipeline training time: 39.73 seconds\n"
     ]
    }
   ],
   "source": [
    "model_SVC = Pipeline([\n",
    "        ('vect', CountVectorizer(tokenizer = tokenize, ngram_range = (1,2), stop_words = 'english')),\n",
    "        ('tfidf', TfidfTransformer()),\n",
    "        ('clf', MultiOutputClassifier(LinearSVC(class_weight = 'balanced', random_state = 1)))\n",
    "    ])\n",
    "\n",
    "start = timeit.default_timer()\n",
    "model_SVC.fit(X_train, y_train)\n",
    "stop = timeit.default_timer()\n",
    "SVC_training_time = stop - start\n",
    "\n",
    "print('Linear SVC pipeline training time: {:.2f} seconds'.format(SVC_training_time))"
   ]
  },
  {
   "cell_type": "code",
   "execution_count": 28,
   "metadata": {},
   "outputs": [
    {
     "name": "stdout",
     "output_type": "stream",
     "text": [
      "Classification result for category \"related\":\n",
      "             precision    recall  f1-score   support\n",
      "\n",
      "          0       0.64      0.58      0.61      1540\n",
      "          1       0.87      0.90      0.89      4967\n",
      "\n",
      "avg / total       0.82      0.82      0.82      6507\n",
      "\n",
      "Classification result for category \"request\":\n",
      "             precision    recall  f1-score   support\n",
      "\n",
      "          0       0.94      0.91      0.93      5387\n",
      "          1       0.63      0.71      0.67      1120\n",
      "\n",
      "avg / total       0.89      0.88      0.88      6507\n",
      "\n",
      "Classification result for category \"offer\":\n",
      "             precision    recall  f1-score   support\n",
      "\n",
      "          0       1.00      1.00      1.00      6484\n",
      "          1       0.50      0.04      0.08        23\n",
      "\n",
      "avg / total       0.99      1.00      0.99      6507\n",
      "\n",
      "Classification result for category \"aid_related\":\n",
      "             precision    recall  f1-score   support\n",
      "\n",
      "          0       0.83      0.74      0.78      3828\n",
      "          1       0.67      0.78      0.72      2679\n",
      "\n",
      "avg / total       0.76      0.75      0.76      6507\n",
      "\n",
      "Classification result for category \"medical_help\":\n",
      "             precision    recall  f1-score   support\n",
      "\n",
      "          0       0.95      0.95      0.95      5988\n",
      "          1       0.46      0.47      0.47       519\n",
      "\n",
      "avg / total       0.91      0.91      0.91      6507\n",
      "\n",
      "Classification result for category \"medical_products\":\n",
      "             precision    recall  f1-score   support\n",
      "\n",
      "          0       0.97      0.98      0.97      6186\n",
      "          1       0.50      0.49      0.50       321\n",
      "\n",
      "avg / total       0.95      0.95      0.95      6507\n",
      "\n",
      "Classification result for category \"search_and_rescue\":\n",
      "             precision    recall  f1-score   support\n",
      "\n",
      "          0       0.98      0.99      0.99      6354\n",
      "          1       0.46      0.22      0.30       153\n",
      "\n",
      "avg / total       0.97      0.98      0.97      6507\n",
      "\n",
      "Classification result for category \"security\":\n",
      "             precision    recall  f1-score   support\n",
      "\n",
      "          0       0.98      1.00      0.99      6383\n",
      "          1       0.23      0.05      0.08       124\n",
      "\n",
      "avg / total       0.97      0.98      0.97      6507\n",
      "\n",
      "Classification result for category \"military\":\n",
      "             precision    recall  f1-score   support\n",
      "\n",
      "          0       0.98      0.98      0.98      6284\n",
      "          1       0.51      0.55      0.53       223\n",
      "\n",
      "avg / total       0.97      0.97      0.97      6507\n",
      "\n",
      "Classification result for category \"water\":\n",
      "             precision    recall  f1-score   support\n",
      "\n",
      "          0       0.99      0.97      0.98      6091\n",
      "          1       0.66      0.81      0.72       416\n",
      "\n",
      "avg / total       0.97      0.96      0.96      6507\n",
      "\n",
      "Classification result for category \"food\":\n",
      "             precision    recall  f1-score   support\n",
      "\n",
      "          0       0.98      0.96      0.97      5783\n",
      "          1       0.74      0.81      0.78       724\n",
      "\n",
      "avg / total       0.95      0.95      0.95      6507\n",
      "\n",
      "Classification result for category \"shelter\":\n",
      "             precision    recall  f1-score   support\n",
      "\n",
      "          0       0.97      0.95      0.96      5928\n",
      "          1       0.60      0.71      0.65       579\n",
      "\n",
      "avg / total       0.94      0.93      0.93      6507\n",
      "\n",
      "Classification result for category \"clothing\":\n",
      "             precision    recall  f1-score   support\n",
      "\n",
      "          0       0.99      1.00      0.99      6410\n",
      "          1       0.65      0.55      0.60        97\n",
      "\n",
      "avg / total       0.99      0.99      0.99      6507\n",
      "\n",
      "Classification result for category \"money\":\n",
      "             precision    recall  f1-score   support\n",
      "\n",
      "          0       0.99      0.99      0.99      6366\n",
      "          1       0.42      0.45      0.44       141\n",
      "\n",
      "avg / total       0.98      0.97      0.97      6507\n",
      "\n",
      "Classification result for category \"missing_people\":\n",
      "             precision    recall  f1-score   support\n",
      "\n",
      "          0       0.99      1.00      0.99      6425\n",
      "          1       0.45      0.18      0.26        82\n",
      "\n",
      "avg / total       0.98      0.99      0.98      6507\n",
      "\n",
      "Classification result for category \"refugees\":\n",
      "             precision    recall  f1-score   support\n",
      "\n",
      "          0       0.98      0.99      0.98      6266\n",
      "          1       0.53      0.35      0.42       241\n",
      "\n",
      "avg / total       0.96      0.96      0.96      6507\n",
      "\n",
      "Classification result for category \"death\":\n",
      "             precision    recall  f1-score   support\n",
      "\n",
      "          0       0.98      0.99      0.98      6214\n",
      "          1       0.68      0.66      0.67       293\n",
      "\n",
      "avg / total       0.97      0.97      0.97      6507\n",
      "\n",
      "Classification result for category \"other_aid\":\n",
      "             precision    recall  f1-score   support\n",
      "\n",
      "          0       0.91      0.89      0.90      5642\n",
      "          1       0.38      0.44      0.41       865\n",
      "\n",
      "avg / total       0.84      0.83      0.84      6507\n",
      "\n",
      "Classification result for category \"infrastructure_related\":\n",
      "             precision    recall  f1-score   support\n",
      "\n",
      "          0       0.95      0.96      0.95      6073\n",
      "          1       0.28      0.23      0.25       434\n",
      "\n",
      "avg / total       0.90      0.91      0.90      6507\n",
      "\n",
      "Classification result for category \"transport\":\n",
      "             precision    recall  f1-score   support\n",
      "\n",
      "          0       0.97      0.98      0.98      6208\n",
      "          1       0.47      0.31      0.38       299\n",
      "\n",
      "avg / total       0.94      0.95      0.95      6507\n",
      "\n",
      "Classification result for category \"buildings\":\n",
      "             precision    recall  f1-score   support\n",
      "\n",
      "          0       0.98      0.97      0.97      6169\n",
      "          1       0.49      0.58      0.53       338\n",
      "\n",
      "avg / total       0.95      0.95      0.95      6507\n",
      "\n",
      "Classification result for category \"electricity\":\n",
      "             precision    recall  f1-score   support\n",
      "\n",
      "          0       0.99      0.99      0.99      6379\n",
      "          1       0.52      0.55      0.53       128\n",
      "\n",
      "avg / total       0.98      0.98      0.98      6507\n",
      "\n",
      "Classification result for category \"tools\":\n",
      "             precision    recall  f1-score   support\n",
      "\n",
      "          0       0.99      1.00      1.00      6470\n",
      "          1       0.00      0.00      0.00        37\n",
      "\n",
      "avg / total       0.99      0.99      0.99      6507\n",
      "\n",
      "Classification result for category \"hospitals\":\n",
      "             precision    recall  f1-score   support\n",
      "\n",
      "          0       0.99      0.99      0.99      6447\n",
      "          1       0.28      0.25      0.27        60\n",
      "\n",
      "avg / total       0.99      0.99      0.99      6507\n",
      "\n",
      "Classification result for category \"shops\":\n",
      "             precision    recall  f1-score   support\n",
      "\n",
      "          0       0.99      1.00      1.00      6474\n",
      "          1       0.00      0.00      0.00        33\n",
      "\n",
      "avg / total       0.99      0.99      0.99      6507\n",
      "\n",
      "Classification result for category \"aid_centers\":\n",
      "             precision    recall  f1-score   support\n",
      "\n",
      "          0       0.99      1.00      0.99      6431\n",
      "          1       0.28      0.11      0.15        76\n",
      "\n",
      "avg / total       0.98      0.99      0.98      6507\n",
      "\n",
      "Classification result for category \"other_infrastructure\":\n",
      "             precision    recall  f1-score   support\n",
      "\n",
      "          0       0.96      0.98      0.97      6208\n",
      "          1       0.25      0.17      0.20       299\n",
      "\n",
      "avg / total       0.93      0.94      0.93      6507\n",
      "\n",
      "Classification result for category \"weather_related\":\n",
      "             precision    recall  f1-score   support\n",
      "\n",
      "          0       0.92      0.90      0.91      4657\n",
      "          1       0.75      0.80      0.77      1850\n",
      "\n",
      "avg / total       0.87      0.87      0.87      6507\n",
      "\n",
      "Classification result for category \"floods\":\n",
      "             precision    recall  f1-score   support\n",
      "\n",
      "          0       0.97      0.98      0.97      5975\n",
      "          1       0.70      0.63      0.66       532\n",
      "\n",
      "avg / total       0.95      0.95      0.95      6507\n",
      "\n",
      "Classification result for category \"storm\":\n",
      "             precision    recall  f1-score   support\n",
      "\n",
      "          0       0.98      0.96      0.97      5880\n",
      "          1       0.69      0.78      0.73       627\n",
      "\n",
      "avg / total       0.95      0.94      0.95      6507\n",
      "\n",
      "Classification result for category \"fire\":\n",
      "             precision    recall  f1-score   support\n",
      "\n",
      "          0       0.99      1.00      0.99      6448\n",
      "          1       0.31      0.08      0.13        59\n",
      "\n",
      "avg / total       0.99      0.99      0.99      6507\n",
      "\n",
      "Classification result for category \"earthquake\":\n",
      "             precision    recall  f1-score   support\n",
      "\n",
      "          0       0.98      0.98      0.98      5853\n",
      "          1       0.85      0.82      0.84       654\n",
      "\n",
      "avg / total       0.97      0.97      0.97      6507\n",
      "\n",
      "Classification result for category \"cold\":\n",
      "             precision    recall  f1-score   support\n",
      "\n",
      "          0       0.99      0.99      0.99      6369\n",
      "          1       0.55      0.41      0.47       138\n",
      "\n",
      "avg / total       0.98      0.98      0.98      6507\n",
      "\n",
      "Classification result for category \"other_weather\":\n",
      "             precision    recall  f1-score   support\n",
      "\n",
      "          0       0.96      0.98      0.97      6162\n",
      "          1       0.42      0.33      0.37       345\n",
      "\n",
      "avg / total       0.93      0.94      0.94      6507\n",
      "\n",
      "Classification result for category \"direct_report\":\n",
      "             precision    recall  f1-score   support\n",
      "\n",
      "          0       0.91      0.88      0.90      5216\n",
      "          1       0.58      0.65      0.61      1291\n",
      "\n",
      "avg / total       0.85      0.84      0.84      6507\n",
      "\n"
     ]
    },
    {
     "data": {
      "text/plain": [
       "precision    0.727760\n",
       "recall       0.703731\n",
       "f1           0.707707\n",
       "roc_auc      0.703731\n",
       "dtype: float64"
      ]
     },
     "execution_count": 28,
     "metadata": {},
     "output_type": "execute_result"
    }
   ],
   "source": [
    "start = timeit.default_timer()\n",
    "y_pred = pd.DataFrame(model_SVC.predict(X_test), columns = y.columns)\n",
    "stop = timeit.default_timer()\n",
    "SVC_predict_time = stop - start\n",
    "results_SVC = show_results(y_test, y_pred, print_report = True)\n",
    "results_SVC.mean()"
   ]
  },
  {
   "cell_type": "code",
   "execution_count": 31,
   "metadata": {},
   "outputs": [
    {
     "data": {
      "text/plain": [
       "MultiOutputClassifier(estimator=LinearSVC(C=1.0, class_weight='balanced', dual=True, fit_intercept=True,\n",
       "     intercept_scaling=1, loss='squared_hinge', max_iter=1000,\n",
       "     multi_class='ovr', penalty='l2', random_state=1, tol=0.0001,\n",
       "     verbose=0),\n",
       "           n_jobs=1)"
      ]
     },
     "execution_count": 31,
     "metadata": {},
     "output_type": "execute_result"
    }
   ],
   "source": [
    "model_SVC.named_steps['clf']"
   ]
  },
  {
   "cell_type": "code",
   "execution_count": null,
   "metadata": {},
   "outputs": [],
   "source": [
    "print('Linear SVC pipeline predict time: {:.2f} seconds'.format(SVC_predict_time))"
   ]
  },
  {
   "cell_type": "code",
   "execution_count": null,
   "metadata": {},
   "outputs": [],
   "source": [
    "all_results1 = results_SVC.join(results_MLPC, lsuffix = '_SVC', rsuffix = '_MLPC').drop(columns = ['label_MLPC']).rename(columns = {'label_SVC':'label'})\n",
    "all_results2 = results_NB.join(results_RF, lsuffix = '_NB', rsuffix = '_RF').drop(columns = ['label_RF'])\n",
    "all_results = all_results1.join(all_results2).drop(columns = ['label_NB'])\n",
    "all_results[['label','roc_auc_SVC','roc_auc_MLPC','roc_auc_NB','roc_auc_RF']]"
   ]
  },
  {
   "cell_type": "markdown",
   "metadata": {},
   "source": [
    "##### Using only nouns from the messages to reduce vocabulary."
   ]
  },
  {
   "cell_type": "markdown",
   "metadata": {},
   "source": [
    "Let's have a look of the vocabulary size with different parameters:"
   ]
  },
  {
   "cell_type": "code",
   "execution_count": null,
   "metadata": {},
   "outputs": [],
   "source": [
    "print('Vocabulary length with stop words: ', len(MLPC_pipeline.named_steps['vect'].vocabulary_))\n",
    "print('Vocabulary length without stop words: ', len(model_NB.named_steps['vect'].vocabulary_))\n",
    "print('Vocabulary length without stop words with 1- and 2-word n-grams: ', len(model_SVC.named_steps['vect'].vocabulary_))"
   ]
  },
  {
   "cell_type": "markdown",
   "metadata": {},
   "source": [
    "Let's use NounExtractor from section 2. to extract nouns from the data."
   ]
  },
  {
   "cell_type": "code",
   "execution_count": null,
   "metadata": {},
   "outputs": [],
   "source": [
    "X_train_N = NounsExtractor().transform(X_train)"
   ]
  },
  {
   "cell_type": "code",
   "execution_count": null,
   "metadata": {},
   "outputs": [],
   "source": [
    "countVectorizer = CountVectorizer(tokenizer=tokenize)\n",
    "countVectorizer.fit_transform(X_train_N)\n",
    "print('Vocabulary length with only nouns: ', len(countVectorizer.vocabulary_))"
   ]
  },
  {
   "cell_type": "markdown",
   "metadata": {},
   "source": [
    "Let's fit SVC model with the only nouns training data."
   ]
  },
  {
   "cell_type": "code",
   "execution_count": null,
   "metadata": {},
   "outputs": [],
   "source": [
    "start = timeit.default_timer()\n",
    "model_SVC.fit(X_train_N, y_train)\n",
    "stop = timeit.default_timer()"
   ]
  },
  {
   "cell_type": "code",
   "execution_count": null,
   "metadata": {},
   "outputs": [],
   "source": [
    "print('Vocabulary length only nouns without stop words with 1- and 2-word n-grams: ',\n",
    "      len(model_SVC.named_steps['vect'].vocabulary_))"
   ]
  },
  {
   "cell_type": "code",
   "execution_count": null,
   "metadata": {},
   "outputs": [],
   "source": [
    "start = timeit.default_timer()\n",
    "y_pred = pd.DataFrame(model_SVC.predict(X_test), columns = y.columns)\n",
    "stop = timeit.default_timer()\n",
    "SVC_predict_time = stop - start\n",
    "results_SVC_N = show_results(y_test, y_pred, print_report = False)\n",
    "results_SVC_N.mean()"
   ]
  },
  {
   "cell_type": "markdown",
   "metadata": {},
   "source": [
    "### 9. Export your model as a pickle file"
   ]
  },
  {
   "cell_type": "code",
   "execution_count": null,
   "metadata": {},
   "outputs": [],
   "source": [
    "f = open('model_MLPC.pickle','wb')\n",
    "pickle.dump(MLPC_pipeline_dict, f)\n",
    "f.close()"
   ]
  },
  {
   "cell_type": "code",
   "execution_count": null,
   "metadata": {},
   "outputs": [],
   "source": [
    "f = open('model_RF.pickle','wb')\n",
    "pickle.dump(model_RF, f)\n",
    "f.close()"
   ]
  },
  {
   "cell_type": "code",
   "execution_count": null,
   "metadata": {},
   "outputs": [],
   "source": [
    "f = open('model_NB.pickle','wb')\n",
    "pickle.dump(model_NB, f)\n",
    "f.close()"
   ]
  },
  {
   "cell_type": "code",
   "execution_count": null,
   "metadata": {},
   "outputs": [],
   "source": [
    "f = open('model_SVC.pickle','wb')\n",
    "pickle.dump(model_SVC, f)\n",
    "f.close()"
   ]
  },
  {
   "cell_type": "markdown",
   "metadata": {},
   "source": [
    "##### Comparing the models:"
   ]
  },
  {
   "cell_type": "code",
   "execution_count": null,
   "metadata": {},
   "outputs": [],
   "source": [
    "model_scores = [results_SVC['roc_auc'].mean(), results_MLPC['roc_auc'].mean(),\n",
    "                results_RF['roc_auc'].mean(), results_NB['roc_auc'].mean()]\n",
    "model_sizes = [37.5, 1590.0, 1020.0, 29.8]\n",
    "model_training = [SVC_training_time, MLPC_training_time, RF_training_time, NB_training_time]\n",
    "model_comparison = pd.DataFrame.from_dict({'classifier':['Linear SVC',  'MLPC', 'RF', 'Multinomial NB'], 'ROC AUC':model_scores, \n",
    "                                          'size, MB':model_sizes, 'training time, s':model_training})"
   ]
  },
  {
   "cell_type": "code",
   "execution_count": null,
   "metadata": {},
   "outputs": [],
   "source": [
    "model_comparison"
   ]
  },
  {
   "cell_type": "markdown",
   "metadata": {},
   "source": [
    "Remarkably simpler models such as multinomial naive bayes and linear support vector classification have shown similar or higher performance comparing to more complex models such as multilayer perceptron and random forest.\n",
    "<br>\n",
    "This may be due to the fact, that twitter messages are short, so simple analysis methods are sufficient. "
   ]
  },
  {
   "cell_type": "markdown",
   "metadata": {},
   "source": [
    "### 10. Use this notebook to complete `train.py`\n",
    "Use the template file attached in the Resources folder to write a script that runs the steps above to create a database and export a model based on a new dataset specified by the user."
   ]
  },
  {
   "cell_type": "code",
   "execution_count": null,
   "metadata": {},
   "outputs": [],
   "source": []
  }
 ],
 "metadata": {
  "kernelspec": {
   "display_name": "Python 3",
   "language": "python",
   "name": "python3"
  },
  "language_info": {
   "codemirror_mode": {
    "name": "ipython",
    "version": 3
   },
   "file_extension": ".py",
   "mimetype": "text/x-python",
   "name": "python",
   "nbconvert_exporter": "python",
   "pygments_lexer": "ipython3",
   "version": "3.6.3"
  }
 },
 "nbformat": 4,
 "nbformat_minor": 2
}
